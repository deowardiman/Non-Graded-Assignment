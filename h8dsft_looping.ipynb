{
 "cells": [
  {
   "cell_type": "code",
   "execution_count": 2,
   "id": "6c2d24a4",
   "metadata": {},
   "outputs": [],
   "source": [
    "numbers = [951,402,984,651,360,69,408,319,601,485,980,507,725,547,544,615,83,165,141,501,263,617,865,575,219,390,984,592,\n",
    "           236,105,942,941,386,462,47,418,907,344,236,375,823,566,\n",
    "           597,978,328,615,953,345,399,162,758,219,918,237,412,566,\n",
    "           826,248,866,950,626,949]"
   ]
  },
  {
   "cell_type": "code",
   "execution_count": 16,
   "id": "87444d28",
   "metadata": {},
   "outputs": [
    {
     "name": "stdout",
     "output_type": "stream",
     "text": [
      "402, 984, 360, 408, 980, 544, 390, 984, 592, 236, 942, 386, 462, 418, 344, 236, 566, 978, 328, 162, 758, 918, done\n"
     ]
    }
   ],
   "source": [
    "for n in numbers:\n",
    "    if n%2 ==0:\n",
    "        if n== 918:\n",
    "            print(n, end=', ')\n",
    "            break\n",
    "        print(n, end=', ')\n",
    "\n",
    "print('done')"
   ]
  },
  {
   "cell_type": "code",
   "execution_count": null,
   "id": "5296bb7c",
   "metadata": {},
   "outputs": [],
   "source": []
  }
 ],
 "metadata": {
  "kernelspec": {
   "display_name": "Python 3",
   "language": "python",
   "name": "python3"
  },
  "language_info": {
   "codemirror_mode": {
    "name": "ipython",
    "version": 3
   },
   "file_extension": ".py",
   "mimetype": "text/x-python",
   "name": "python",
   "nbconvert_exporter": "python",
   "pygments_lexer": "ipython3",
   "version": "3.8.8"
  }
 },
 "nbformat": 4,
 "nbformat_minor": 5
}
